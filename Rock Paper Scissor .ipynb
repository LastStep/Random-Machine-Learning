{
 "cells": [
  {
   "cell_type": "code",
   "execution_count": 29,
   "metadata": {},
   "outputs": [],
   "source": [
    "import random\n",
    "import numpy as np\n",
    "import matplotlib.pyplot as plt\n",
    "np.set_printoptions(suppress=True)"
   ]
  },
  {
   "cell_type": "code",
   "execution_count": 30,
   "metadata": {},
   "outputs": [],
   "source": [
    "Rock, Paper, Scissior = 0, 1, 2\n",
    "numActions = 3\n",
    "oppStratergy = np.array([0.4,0.3,0.3])"
   ]
  },
  {
   "cell_type": "code",
   "execution_count": 31,
   "metadata": {},
   "outputs": [],
   "source": [
    "def getStratergy(regretSum, stratergySum):\n",
    "    stratergy = np.maximum(regretSum, 0)\n",
    "    normalizingSum = np.sum(stratergy)\n",
    "    if normalizingSum > 0:\n",
    "        stratergy /= normalizingSum\n",
    "    else:\n",
    "        stratergy = np.ones(3)/numActions\n",
    "    stratergySum += stratergy\n",
    "    return stratergy\n",
    "\n",
    "def getAverageStratergy(regretSum, stratergySum):\n",
    "    avgStratergy = np.zeros(3)\n",
    "    normalizingSum = np.sum(stratergySum)\n",
    "    if normalizingSum > 0:\n",
    "        avgStratergy = stratergySum/normalizingSum\n",
    "    else:\n",
    "        avgStratergy = np.ones(3)/numActions\n",
    "    return avgStratergy\n",
    "    \n",
    "def getAction(stratergy):\n",
    "#    return np.searchsorted(np.cumsum(stratergy), random.random())\n",
    "    return np.sum(np.where(np.cumsum(stratergy) > random.random(), 0, 1))"
   ]
  },
  {
   "cell_type": "code",
   "execution_count": 32,
   "metadata": {},
   "outputs": [],
   "source": [
    "def train(iterations):\n",
    "    \n",
    "    regretSum = np.zeros(numActions)\n",
    "    stratergySum = np.zeros(3)\n",
    "    actionUtility = np.zeros(numActions)\n",
    "    \n",
    "    for i in range(iterations):\n",
    "        \n",
    "        stratergy = getStratergy(regretSum, stratergySum)\n",
    "        myAction = getAction(stratergy)\n",
    "        oppAction = getAction(oppStratergy)\n",
    "        \n",
    "        actionUtility[oppAction] = 0\n",
    "        actionUtility[(oppAction + 1) % numActions] = 1\n",
    "        actionUtility[(oppAction - 1) % numActions] = -1\n",
    "        \n",
    "        regretSum += actionUtility - actionUtility[myAction]\n",
    "    \n",
    "    return regretSum, stratergySum"
   ]
  },
  {
   "cell_type": "code",
   "execution_count": 35,
   "metadata": {},
   "outputs": [
    {
     "data": {
      "text/plain": [
       "array([0.00194006, 0.99740854, 0.0006514 ])"
      ]
     },
     "execution_count": 35,
     "metadata": {},
     "output_type": "execute_result"
    }
   ],
   "source": [
    "getAverageStratergy(*train(10000))"
   ]
  },
  {
   "cell_type": "code",
   "execution_count": 48,
   "metadata": {},
   "outputs": [
    {
     "name": "stdout",
     "output_type": "stream",
     "text": [
      "142913828922\n",
      "0.29303574562072754\n"
     ]
    }
   ],
   "source": [
    "import time\n",
    "\n",
    "t1 = time.time()\n",
    "\n",
    "def sumprime(x):\n",
    "    summ, s = [], [True]*x\n",
    "    for i in range(3, x, 2):\n",
    "        if s[i]:\n",
    "            summ.append(i)\n",
    "            for j in range(i*i, x, i):\n",
    "                s[j] = False\n",
    "    return summ   \n",
    "\n",
    "\n",
    "print(sum(sumprime(2000000)))\n",
    "\n",
    "t2 = time.time()\n",
    "print(t2-t1)"
   ]
  },
  {
   "cell_type": "code",
   "execution_count": null,
   "metadata": {},
   "outputs": [],
   "source": []
  }
 ],
 "metadata": {
  "kernelspec": {
   "display_name": "Python 3",
   "language": "python",
   "name": "python3"
  },
  "language_info": {
   "codemirror_mode": {
    "name": "ipython",
    "version": 3
   },
   "file_extension": ".py",
   "mimetype": "text/x-python",
   "name": "python",
   "nbconvert_exporter": "python",
   "pygments_lexer": "ipython3",
   "version": "3.7.2"
  },
  "varInspector": {
   "cols": {
    "lenName": 16,
    "lenType": 16,
    "lenVar": 40
   },
   "kernels_config": {
    "python": {
     "delete_cmd_postfix": "",
     "delete_cmd_prefix": "del ",
     "library": "var_list.py",
     "varRefreshCmd": "print(var_dic_list())"
    },
    "r": {
     "delete_cmd_postfix": ") ",
     "delete_cmd_prefix": "rm(",
     "library": "var_list.r",
     "varRefreshCmd": "cat(var_dic_list()) "
    }
   },
   "types_to_exclude": [
    "module",
    "function",
    "builtin_function_or_method",
    "instance",
    "_Feature"
   ],
   "window_display": false
  }
 },
 "nbformat": 4,
 "nbformat_minor": 2
}
